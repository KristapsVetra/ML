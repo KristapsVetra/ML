{
 "metadata": {
  "language_info": {
   "codemirror_mode": {
    "name": "ipython",
    "version": 3
   },
   "file_extension": ".py",
   "mimetype": "text/x-python",
   "name": "python",
   "nbconvert_exporter": "python",
   "pygments_lexer": "ipython3",
   "version": "3.8.5-final"
  },
  "orig_nbformat": 2,
  "kernelspec": {
   "name": "python3",
   "display_name": "Python 3.8.5 64-bit (conda)",
   "metadata": {
    "interpreter": {
     "hash": "e97a66c897daa733084f84886ee7d0a1665801caa0594f381b6ae483e1da4104"
    }
   }
  }
 },
 "nbformat": 4,
 "nbformat_minor": 2,
 "cells": [
  {
   "cell_type": "code",
   "execution_count": 95,
   "metadata": {},
   "outputs": [],
   "source": [
    "import keras\n",
    "import numpy as np\n",
    "import pandas as pd\n",
    "import matplotlib.pyplot as plt \n",
    "import os\n",
    "\n",
    "from keras.layers import Input,Embedding,Flatten,Dot,Dense\n",
    "from keras.models import Model\n",
    "\n",
    "%matplotlib inline"
   ]
  },
  {
   "cell_type": "code",
   "execution_count": 96,
   "metadata": {},
   "outputs": [
    {
     "output_type": "execute_result",
     "data": {
      "text/plain": [
       "   userId  movieId  rating  timestamp\n",
       "0       1        1     4.0  964982703\n",
       "1       1        3     4.0  964981247\n",
       "2       1        6     4.0  964982224\n",
       "3       1       47     5.0  964983815\n",
       "4       1       50     5.0  964982931\n",
       "5       1       70     3.0  964982400"
      ],
      "text/html": "<div>\n<style scoped>\n    .dataframe tbody tr th:only-of-type {\n        vertical-align: middle;\n    }\n\n    .dataframe tbody tr th {\n        vertical-align: top;\n    }\n\n    .dataframe thead th {\n        text-align: right;\n    }\n</style>\n<table border=\"1\" class=\"dataframe\">\n  <thead>\n    <tr style=\"text-align: right;\">\n      <th></th>\n      <th>userId</th>\n      <th>movieId</th>\n      <th>rating</th>\n      <th>timestamp</th>\n    </tr>\n  </thead>\n  <tbody>\n    <tr>\n      <th>0</th>\n      <td>1</td>\n      <td>1</td>\n      <td>4.0</td>\n      <td>964982703</td>\n    </tr>\n    <tr>\n      <th>1</th>\n      <td>1</td>\n      <td>3</td>\n      <td>4.0</td>\n      <td>964981247</td>\n    </tr>\n    <tr>\n      <th>2</th>\n      <td>1</td>\n      <td>6</td>\n      <td>4.0</td>\n      <td>964982224</td>\n    </tr>\n    <tr>\n      <th>3</th>\n      <td>1</td>\n      <td>47</td>\n      <td>5.0</td>\n      <td>964983815</td>\n    </tr>\n    <tr>\n      <th>4</th>\n      <td>1</td>\n      <td>50</td>\n      <td>5.0</td>\n      <td>964982931</td>\n    </tr>\n    <tr>\n      <th>5</th>\n      <td>1</td>\n      <td>70</td>\n      <td>3.0</td>\n      <td>964982400</td>\n    </tr>\n  </tbody>\n</table>\n</div>"
     },
     "metadata": {},
     "execution_count": 96
    }
   ],
   "source": [
    "dataset = pd.read_csv(r'C:\\Users\\Kristaps\\Desktop\\dataset\\ml-latest-small\\ratings.csv')\n",
    "dataset.head(6)"
   ]
  },
  {
   "cell_type": "code",
   "execution_count": 90,
   "metadata": {},
   "outputs": [
    {
     "output_type": "execute_result",
     "data": {
      "text/plain": [
       "   movieId                               title  \\\n",
       "0        1                    Toy Story (1995)   \n",
       "1        2                      Jumanji (1995)   \n",
       "2        3             Grumpier Old Men (1995)   \n",
       "3        4            Waiting to Exhale (1995)   \n",
       "4        5  Father of the Bride Part II (1995)   \n",
       "\n",
       "                                        genres  \n",
       "0  Adventure|Animation|Children|Comedy|Fantasy  \n",
       "1                   Adventure|Children|Fantasy  \n",
       "2                               Comedy|Romance  \n",
       "3                         Comedy|Drama|Romance  \n",
       "4                                       Comedy  "
      ],
      "text/html": "<div>\n<style scoped>\n    .dataframe tbody tr th:only-of-type {\n        vertical-align: middle;\n    }\n\n    .dataframe tbody tr th {\n        vertical-align: top;\n    }\n\n    .dataframe thead th {\n        text-align: right;\n    }\n</style>\n<table border=\"1\" class=\"dataframe\">\n  <thead>\n    <tr style=\"text-align: right;\">\n      <th></th>\n      <th>movieId</th>\n      <th>title</th>\n      <th>genres</th>\n    </tr>\n  </thead>\n  <tbody>\n    <tr>\n      <th>0</th>\n      <td>1</td>\n      <td>Toy Story (1995)</td>\n      <td>Adventure|Animation|Children|Comedy|Fantasy</td>\n    </tr>\n    <tr>\n      <th>1</th>\n      <td>2</td>\n      <td>Jumanji (1995)</td>\n      <td>Adventure|Children|Fantasy</td>\n    </tr>\n    <tr>\n      <th>2</th>\n      <td>3</td>\n      <td>Grumpier Old Men (1995)</td>\n      <td>Comedy|Romance</td>\n    </tr>\n    <tr>\n      <th>3</th>\n      <td>4</td>\n      <td>Waiting to Exhale (1995)</td>\n      <td>Comedy|Drama|Romance</td>\n    </tr>\n    <tr>\n      <th>4</th>\n      <td>5</td>\n      <td>Father of the Bride Part II (1995)</td>\n      <td>Comedy</td>\n    </tr>\n  </tbody>\n</table>\n</div>"
     },
     "metadata": {},
     "execution_count": 90
    }
   ],
   "source": [
    "movies = pd.read_csv(r'C:\\Users\\Kristaps\\Desktop\\dataset\\ml-latest-small\\movies.csv')\n",
    "movies.head()"
   ]
  },
  {
   "cell_type": "code",
   "execution_count": 79,
   "metadata": {},
   "outputs": [
    {
     "output_type": "execute_result",
     "data": {
      "text/plain": [
       "(100836, 4)"
      ]
     },
     "metadata": {},
     "execution_count": 79
    }
   ],
   "source": [
    "dataset.shape\n"
   ]
  },
  {
   "cell_type": "code",
   "execution_count": 91,
   "metadata": {},
   "outputs": [
    {
     "output_type": "execute_result",
     "data": {
      "text/plain": [
       "   movieId                               title  \\\n",
       "0        0                    Toy Story (1995)   \n",
       "1        1                      Jumanji (1995)   \n",
       "2        2             Grumpier Old Men (1995)   \n",
       "3        3            Waiting to Exhale (1995)   \n",
       "4        4  Father of the Bride Part II (1995)   \n",
       "\n",
       "                                        genres  \n",
       "0  Adventure|Animation|Children|Comedy|Fantasy  \n",
       "1                   Adventure|Children|Fantasy  \n",
       "2                               Comedy|Romance  \n",
       "3                         Comedy|Drama|Romance  \n",
       "4                                       Comedy  "
      ],
      "text/html": "<div>\n<style scoped>\n    .dataframe tbody tr th:only-of-type {\n        vertical-align: middle;\n    }\n\n    .dataframe tbody tr th {\n        vertical-align: top;\n    }\n\n    .dataframe thead th {\n        text-align: right;\n    }\n</style>\n<table border=\"1\" class=\"dataframe\">\n  <thead>\n    <tr style=\"text-align: right;\">\n      <th></th>\n      <th>movieId</th>\n      <th>title</th>\n      <th>genres</th>\n    </tr>\n  </thead>\n  <tbody>\n    <tr>\n      <th>0</th>\n      <td>0</td>\n      <td>Toy Story (1995)</td>\n      <td>Adventure|Animation|Children|Comedy|Fantasy</td>\n    </tr>\n    <tr>\n      <th>1</th>\n      <td>1</td>\n      <td>Jumanji (1995)</td>\n      <td>Adventure|Children|Fantasy</td>\n    </tr>\n    <tr>\n      <th>2</th>\n      <td>2</td>\n      <td>Grumpier Old Men (1995)</td>\n      <td>Comedy|Romance</td>\n    </tr>\n    <tr>\n      <th>3</th>\n      <td>3</td>\n      <td>Waiting to Exhale (1995)</td>\n      <td>Comedy|Drama|Romance</td>\n    </tr>\n    <tr>\n      <th>4</th>\n      <td>4</td>\n      <td>Father of the Bride Part II (1995)</td>\n      <td>Comedy</td>\n    </tr>\n  </tbody>\n</table>\n</div>"
     },
     "metadata": {},
     "execution_count": 91
    }
   ],
   "source": [
    "movies.movieId = movies.movieId.astype('category').cat.codes.values\n",
    "movies.head()"
   ]
  },
  {
   "cell_type": "code",
   "execution_count": 92,
   "metadata": {},
   "outputs": [
    {
     "output_type": "error",
     "ename": "PermissionError",
     "evalue": "[Errno 13] Permission denied: 'C:\\\\Users\\\\Kristaps\\\\Desktop\\\\dataset\\\\ml-latest-small\\\\reindexedmovies.csv'",
     "traceback": [
      "\u001b[1;31m---------------------------------------------------------------------------\u001b[0m",
      "\u001b[1;31mPermissionError\u001b[0m                           Traceback (most recent call last)",
      "\u001b[1;32m<ipython-input-92-9b34ddfa5d77>\u001b[0m in \u001b[0;36m<module>\u001b[1;34m\u001b[0m\n\u001b[1;32m----> 1\u001b[1;33m \u001b[0mreindexedmovies\u001b[0m \u001b[1;33m=\u001b[0m \u001b[0mmovies\u001b[0m\u001b[1;33m.\u001b[0m\u001b[0mto_csv\u001b[0m\u001b[1;33m(\u001b[0m\u001b[1;34mr'C:\\Users\\Kristaps\\Desktop\\dataset\\ml-latest-small\\reindexedmovies.csv'\u001b[0m\u001b[1;33m,\u001b[0m \u001b[0mindex\u001b[0m \u001b[1;33m=\u001b[0m \u001b[1;32mTrue\u001b[0m\u001b[1;33m)\u001b[0m\u001b[1;33m\u001b[0m\u001b[1;33m\u001b[0m\u001b[0m\n\u001b[0m",
      "\u001b[1;32m~\\anaconda3\\lib\\site-packages\\pandas\\core\\generic.py\u001b[0m in \u001b[0;36mto_csv\u001b[1;34m(self, path_or_buf, sep, na_rep, float_format, columns, header, index, index_label, mode, encoding, compression, quoting, quotechar, line_terminator, chunksize, date_format, doublequote, escapechar, decimal, errors)\u001b[0m\n\u001b[0;32m   3168\u001b[0m             \u001b[0mdecimal\u001b[0m\u001b[1;33m=\u001b[0m\u001b[0mdecimal\u001b[0m\u001b[1;33m,\u001b[0m\u001b[1;33m\u001b[0m\u001b[1;33m\u001b[0m\u001b[0m\n\u001b[0;32m   3169\u001b[0m         )\n\u001b[1;32m-> 3170\u001b[1;33m         \u001b[0mformatter\u001b[0m\u001b[1;33m.\u001b[0m\u001b[0msave\u001b[0m\u001b[1;33m(\u001b[0m\u001b[1;33m)\u001b[0m\u001b[1;33m\u001b[0m\u001b[1;33m\u001b[0m\u001b[0m\n\u001b[0m\u001b[0;32m   3171\u001b[0m \u001b[1;33m\u001b[0m\u001b[0m\n\u001b[0;32m   3172\u001b[0m         \u001b[1;32mif\u001b[0m \u001b[0mpath_or_buf\u001b[0m \u001b[1;32mis\u001b[0m \u001b[1;32mNone\u001b[0m\u001b[1;33m:\u001b[0m\u001b[1;33m\u001b[0m\u001b[1;33m\u001b[0m\u001b[0m\n",
      "\u001b[1;32m~\\anaconda3\\lib\\site-packages\\pandas\\io\\formats\\csvs.py\u001b[0m in \u001b[0;36msave\u001b[1;34m(self)\u001b[0m\n\u001b[0;32m    183\u001b[0m             \u001b[0mclose\u001b[0m \u001b[1;33m=\u001b[0m \u001b[1;32mFalse\u001b[0m\u001b[1;33m\u001b[0m\u001b[1;33m\u001b[0m\u001b[0m\n\u001b[0;32m    184\u001b[0m         \u001b[1;32melse\u001b[0m\u001b[1;33m:\u001b[0m\u001b[1;33m\u001b[0m\u001b[1;33m\u001b[0m\u001b[0m\n\u001b[1;32m--> 185\u001b[1;33m             f, handles = get_handle(\n\u001b[0m\u001b[0;32m    186\u001b[0m                 \u001b[0mself\u001b[0m\u001b[1;33m.\u001b[0m\u001b[0mpath_or_buf\u001b[0m\u001b[1;33m,\u001b[0m\u001b[1;33m\u001b[0m\u001b[1;33m\u001b[0m\u001b[0m\n\u001b[0;32m    187\u001b[0m                 \u001b[0mself\u001b[0m\u001b[1;33m.\u001b[0m\u001b[0mmode\u001b[0m\u001b[1;33m,\u001b[0m\u001b[1;33m\u001b[0m\u001b[1;33m\u001b[0m\u001b[0m\n",
      "\u001b[1;32m~\\anaconda3\\lib\\site-packages\\pandas\\io\\common.py\u001b[0m in \u001b[0;36mget_handle\u001b[1;34m(path_or_buf, mode, encoding, compression, memory_map, is_text, errors)\u001b[0m\n\u001b[0;32m    491\u001b[0m         \u001b[1;32mif\u001b[0m \u001b[0mencoding\u001b[0m\u001b[1;33m:\u001b[0m\u001b[1;33m\u001b[0m\u001b[1;33m\u001b[0m\u001b[0m\n\u001b[0;32m    492\u001b[0m             \u001b[1;31m# Encoding\u001b[0m\u001b[1;33m\u001b[0m\u001b[1;33m\u001b[0m\u001b[1;33m\u001b[0m\u001b[0m\n\u001b[1;32m--> 493\u001b[1;33m             \u001b[0mf\u001b[0m \u001b[1;33m=\u001b[0m \u001b[0mopen\u001b[0m\u001b[1;33m(\u001b[0m\u001b[0mpath_or_buf\u001b[0m\u001b[1;33m,\u001b[0m \u001b[0mmode\u001b[0m\u001b[1;33m,\u001b[0m \u001b[0mencoding\u001b[0m\u001b[1;33m=\u001b[0m\u001b[0mencoding\u001b[0m\u001b[1;33m,\u001b[0m \u001b[0merrors\u001b[0m\u001b[1;33m=\u001b[0m\u001b[0merrors\u001b[0m\u001b[1;33m,\u001b[0m \u001b[0mnewline\u001b[0m\u001b[1;33m=\u001b[0m\u001b[1;34m\"\"\u001b[0m\u001b[1;33m)\u001b[0m\u001b[1;33m\u001b[0m\u001b[1;33m\u001b[0m\u001b[0m\n\u001b[0m\u001b[0;32m    494\u001b[0m         \u001b[1;32melif\u001b[0m \u001b[0mis_text\u001b[0m\u001b[1;33m:\u001b[0m\u001b[1;33m\u001b[0m\u001b[1;33m\u001b[0m\u001b[0m\n\u001b[0;32m    495\u001b[0m             \u001b[1;31m# No explicit encoding\u001b[0m\u001b[1;33m\u001b[0m\u001b[1;33m\u001b[0m\u001b[1;33m\u001b[0m\u001b[0m\n",
      "\u001b[1;31mPermissionError\u001b[0m: [Errno 13] Permission denied: 'C:\\\\Users\\\\Kristaps\\\\Desktop\\\\dataset\\\\ml-latest-small\\\\reindexedmovies.csv'"
     ]
    }
   ],
   "source": [
    "reindexedmovies = movies.to_csv(r'C:\\Users\\Kristaps\\Desktop\\dataset\\ml-latest-small\\reindexedmovies.csv', index = True)\n"
   ]
  },
  {
   "cell_type": "code",
   "execution_count": 80,
   "metadata": {},
   "outputs": [
    {
     "output_type": "execute_result",
     "data": {
      "text/plain": [
       "    userId  movieId  rating  timestamp\n",
       "0        0        0     4.0  964982703\n",
       "1        0        2     4.0  964981247\n",
       "2        0        5     4.0  964982224\n",
       "3        0       43     5.0  964983815\n",
       "4        0       46     5.0  964982931\n",
       "5        0       62     3.0  964982400\n",
       "6        0       89     5.0  964980868\n",
       "7        0       97     4.0  964982176\n",
       "8        0      124     5.0  964984041\n",
       "9        0      130     5.0  964984100\n",
       "10       0      136     5.0  964983650\n",
       "11       0      184     5.0  964981208\n",
       "12       0      190     3.0  964980985\n",
       "13       0      197     5.0  964981179\n",
       "14       0      201     4.0  964980908\n",
       "15       0      224     5.0  964981680\n",
       "16       0      257     3.0  964982967\n",
       "17       0      275     3.0  964982310\n",
       "18       0      291     5.0  964981179\n",
       "19       0      307     4.0  964982563\n",
       "20       0      314     4.0  964980962\n",
       "21       0      320     5.0  964982588\n",
       "22       0      325     4.0  964981710\n",
       "23       0      367     3.0  964982363\n",
       "24       0      384     4.0  964980868\n",
       "25       0      398     5.0  964981909\n",
       "26       0      418     4.0  964982346\n",
       "27       0      436     3.0  964981208\n",
       "28       0      461     5.0  964984002\n",
       "29       0      476     4.0  964981179\n",
       "30       0      484     4.0  964982653\n",
       "31       0      485     5.0  964984153\n",
       "32       0      508     4.0  964982546\n",
       "33       0      509     4.0  964982271\n",
       "34       0      510     4.0  964983793\n",
       "35       0      513     5.0  964982838\n",
       "36       0      520     5.0  964982931\n",
       "37       0      546     3.0  964982563\n",
       "38       0      551     5.0  964982838\n",
       "39       0      559     3.0  964981775\n",
       "40       0      592     4.0  964982400\n",
       "41       0      594     3.0  964982653\n",
       "42       0      615     3.0  964984086\n",
       "43       0      632     4.0  964980499\n",
       "44       0      701     5.0  964982475\n",
       "45       0      705     5.0  964981529\n",
       "46       0      720     5.0  964982176\n",
       "47       0      723     4.0  964983614\n",
       "48       0      734     5.0  964983219\n",
       "49       0      767     3.0  964981775"
      ],
      "text/html": "<div>\n<style scoped>\n    .dataframe tbody tr th:only-of-type {\n        vertical-align: middle;\n    }\n\n    .dataframe tbody tr th {\n        vertical-align: top;\n    }\n\n    .dataframe thead th {\n        text-align: right;\n    }\n</style>\n<table border=\"1\" class=\"dataframe\">\n  <thead>\n    <tr style=\"text-align: right;\">\n      <th></th>\n      <th>userId</th>\n      <th>movieId</th>\n      <th>rating</th>\n      <th>timestamp</th>\n    </tr>\n  </thead>\n  <tbody>\n    <tr>\n      <th>0</th>\n      <td>0</td>\n      <td>0</td>\n      <td>4.0</td>\n      <td>964982703</td>\n    </tr>\n    <tr>\n      <th>1</th>\n      <td>0</td>\n      <td>2</td>\n      <td>4.0</td>\n      <td>964981247</td>\n    </tr>\n    <tr>\n      <th>2</th>\n      <td>0</td>\n      <td>5</td>\n      <td>4.0</td>\n      <td>964982224</td>\n    </tr>\n    <tr>\n      <th>3</th>\n      <td>0</td>\n      <td>43</td>\n      <td>5.0</td>\n      <td>964983815</td>\n    </tr>\n    <tr>\n      <th>4</th>\n      <td>0</td>\n      <td>46</td>\n      <td>5.0</td>\n      <td>964982931</td>\n    </tr>\n    <tr>\n      <th>5</th>\n      <td>0</td>\n      <td>62</td>\n      <td>3.0</td>\n      <td>964982400</td>\n    </tr>\n    <tr>\n      <th>6</th>\n      <td>0</td>\n      <td>89</td>\n      <td>5.0</td>\n      <td>964980868</td>\n    </tr>\n    <tr>\n      <th>7</th>\n      <td>0</td>\n      <td>97</td>\n      <td>4.0</td>\n      <td>964982176</td>\n    </tr>\n    <tr>\n      <th>8</th>\n      <td>0</td>\n      <td>124</td>\n      <td>5.0</td>\n      <td>964984041</td>\n    </tr>\n    <tr>\n      <th>9</th>\n      <td>0</td>\n      <td>130</td>\n      <td>5.0</td>\n      <td>964984100</td>\n    </tr>\n    <tr>\n      <th>10</th>\n      <td>0</td>\n      <td>136</td>\n      <td>5.0</td>\n      <td>964983650</td>\n    </tr>\n    <tr>\n      <th>11</th>\n      <td>0</td>\n      <td>184</td>\n      <td>5.0</td>\n      <td>964981208</td>\n    </tr>\n    <tr>\n      <th>12</th>\n      <td>0</td>\n      <td>190</td>\n      <td>3.0</td>\n      <td>964980985</td>\n    </tr>\n    <tr>\n      <th>13</th>\n      <td>0</td>\n      <td>197</td>\n      <td>5.0</td>\n      <td>964981179</td>\n    </tr>\n    <tr>\n      <th>14</th>\n      <td>0</td>\n      <td>201</td>\n      <td>4.0</td>\n      <td>964980908</td>\n    </tr>\n    <tr>\n      <th>15</th>\n      <td>0</td>\n      <td>224</td>\n      <td>5.0</td>\n      <td>964981680</td>\n    </tr>\n    <tr>\n      <th>16</th>\n      <td>0</td>\n      <td>257</td>\n      <td>3.0</td>\n      <td>964982967</td>\n    </tr>\n    <tr>\n      <th>17</th>\n      <td>0</td>\n      <td>275</td>\n      <td>3.0</td>\n      <td>964982310</td>\n    </tr>\n    <tr>\n      <th>18</th>\n      <td>0</td>\n      <td>291</td>\n      <td>5.0</td>\n      <td>964981179</td>\n    </tr>\n    <tr>\n      <th>19</th>\n      <td>0</td>\n      <td>307</td>\n      <td>4.0</td>\n      <td>964982563</td>\n    </tr>\n    <tr>\n      <th>20</th>\n      <td>0</td>\n      <td>314</td>\n      <td>4.0</td>\n      <td>964980962</td>\n    </tr>\n    <tr>\n      <th>21</th>\n      <td>0</td>\n      <td>320</td>\n      <td>5.0</td>\n      <td>964982588</td>\n    </tr>\n    <tr>\n      <th>22</th>\n      <td>0</td>\n      <td>325</td>\n      <td>4.0</td>\n      <td>964981710</td>\n    </tr>\n    <tr>\n      <th>23</th>\n      <td>0</td>\n      <td>367</td>\n      <td>3.0</td>\n      <td>964982363</td>\n    </tr>\n    <tr>\n      <th>24</th>\n      <td>0</td>\n      <td>384</td>\n      <td>4.0</td>\n      <td>964980868</td>\n    </tr>\n    <tr>\n      <th>25</th>\n      <td>0</td>\n      <td>398</td>\n      <td>5.0</td>\n      <td>964981909</td>\n    </tr>\n    <tr>\n      <th>26</th>\n      <td>0</td>\n      <td>418</td>\n      <td>4.0</td>\n      <td>964982346</td>\n    </tr>\n    <tr>\n      <th>27</th>\n      <td>0</td>\n      <td>436</td>\n      <td>3.0</td>\n      <td>964981208</td>\n    </tr>\n    <tr>\n      <th>28</th>\n      <td>0</td>\n      <td>461</td>\n      <td>5.0</td>\n      <td>964984002</td>\n    </tr>\n    <tr>\n      <th>29</th>\n      <td>0</td>\n      <td>476</td>\n      <td>4.0</td>\n      <td>964981179</td>\n    </tr>\n    <tr>\n      <th>30</th>\n      <td>0</td>\n      <td>484</td>\n      <td>4.0</td>\n      <td>964982653</td>\n    </tr>\n    <tr>\n      <th>31</th>\n      <td>0</td>\n      <td>485</td>\n      <td>5.0</td>\n      <td>964984153</td>\n    </tr>\n    <tr>\n      <th>32</th>\n      <td>0</td>\n      <td>508</td>\n      <td>4.0</td>\n      <td>964982546</td>\n    </tr>\n    <tr>\n      <th>33</th>\n      <td>0</td>\n      <td>509</td>\n      <td>4.0</td>\n      <td>964982271</td>\n    </tr>\n    <tr>\n      <th>34</th>\n      <td>0</td>\n      <td>510</td>\n      <td>4.0</td>\n      <td>964983793</td>\n    </tr>\n    <tr>\n      <th>35</th>\n      <td>0</td>\n      <td>513</td>\n      <td>5.0</td>\n      <td>964982838</td>\n    </tr>\n    <tr>\n      <th>36</th>\n      <td>0</td>\n      <td>520</td>\n      <td>5.0</td>\n      <td>964982931</td>\n    </tr>\n    <tr>\n      <th>37</th>\n      <td>0</td>\n      <td>546</td>\n      <td>3.0</td>\n      <td>964982563</td>\n    </tr>\n    <tr>\n      <th>38</th>\n      <td>0</td>\n      <td>551</td>\n      <td>5.0</td>\n      <td>964982838</td>\n    </tr>\n    <tr>\n      <th>39</th>\n      <td>0</td>\n      <td>559</td>\n      <td>3.0</td>\n      <td>964981775</td>\n    </tr>\n    <tr>\n      <th>40</th>\n      <td>0</td>\n      <td>592</td>\n      <td>4.0</td>\n      <td>964982400</td>\n    </tr>\n    <tr>\n      <th>41</th>\n      <td>0</td>\n      <td>594</td>\n      <td>3.0</td>\n      <td>964982653</td>\n    </tr>\n    <tr>\n      <th>42</th>\n      <td>0</td>\n      <td>615</td>\n      <td>3.0</td>\n      <td>964984086</td>\n    </tr>\n    <tr>\n      <th>43</th>\n      <td>0</td>\n      <td>632</td>\n      <td>4.0</td>\n      <td>964980499</td>\n    </tr>\n    <tr>\n      <th>44</th>\n      <td>0</td>\n      <td>701</td>\n      <td>5.0</td>\n      <td>964982475</td>\n    </tr>\n    <tr>\n      <th>45</th>\n      <td>0</td>\n      <td>705</td>\n      <td>5.0</td>\n      <td>964981529</td>\n    </tr>\n    <tr>\n      <th>46</th>\n      <td>0</td>\n      <td>720</td>\n      <td>5.0</td>\n      <td>964982176</td>\n    </tr>\n    <tr>\n      <th>47</th>\n      <td>0</td>\n      <td>723</td>\n      <td>4.0</td>\n      <td>964983614</td>\n    </tr>\n    <tr>\n      <th>48</th>\n      <td>0</td>\n      <td>734</td>\n      <td>5.0</td>\n      <td>964983219</td>\n    </tr>\n    <tr>\n      <th>49</th>\n      <td>0</td>\n      <td>767</td>\n      <td>3.0</td>\n      <td>964981775</td>\n    </tr>\n  </tbody>\n</table>\n</div>"
     },
     "metadata": {},
     "execution_count": 80
    }
   ],
   "source": [
    "  dataset.userId = dataset.userId.astype('category').cat.codes.values\n",
    "  dataset.movieId = dataset.movieId.astype('category').cat.codes.values\n",
    "  #reindexed = dataset.to_csv(r'C:\\Users\\Kristaps\\Desktop\\dataset\\ml-latest-small\\reindexed.csv', index = True)\n",
    "  dataset.head(50)"
   ]
  },
  {
   "cell_type": "code",
   "execution_count": 34,
   "metadata": {},
   "outputs": [],
   "source": [
    "# dataset['rating'] = dataset['rating'].map({1:-1,2:-1,3:0,4:1,5:1,1.5:-1,2.5:-1,3.5:1,4.5:1})"
   ]
  },
  {
   "cell_type": "code",
   "execution_count": 81,
   "metadata": {},
   "outputs": [],
   "source": [
    "from sklearn.model_selection import train_test_split\n",
    "train,test = train_test_split(dataset,test_size=0.2, random_state =5)"
   ]
  },
  {
   "cell_type": "code",
   "execution_count": 82,
   "metadata": {},
   "outputs": [
    {
     "output_type": "execute_result",
     "data": {
      "text/plain": [
       "       userId  movieId  rating   timestamp\n",
       "96041     601      312     3.0   840876228\n",
       "21842     140     7061     4.0  1513130002\n",
       "66322     426     3718     2.5  1053070768\n",
       "60779     390     3801     4.0  1030824826\n",
       "6435       43       58     3.0   869252497"
      ],
      "text/html": "<div>\n<style scoped>\n    .dataframe tbody tr th:only-of-type {\n        vertical-align: middle;\n    }\n\n    .dataframe tbody tr th {\n        vertical-align: top;\n    }\n\n    .dataframe thead th {\n        text-align: right;\n    }\n</style>\n<table border=\"1\" class=\"dataframe\">\n  <thead>\n    <tr style=\"text-align: right;\">\n      <th></th>\n      <th>userId</th>\n      <th>movieId</th>\n      <th>rating</th>\n      <th>timestamp</th>\n    </tr>\n  </thead>\n  <tbody>\n    <tr>\n      <th>96041</th>\n      <td>601</td>\n      <td>312</td>\n      <td>3.0</td>\n      <td>840876228</td>\n    </tr>\n    <tr>\n      <th>21842</th>\n      <td>140</td>\n      <td>7061</td>\n      <td>4.0</td>\n      <td>1513130002</td>\n    </tr>\n    <tr>\n      <th>66322</th>\n      <td>426</td>\n      <td>3718</td>\n      <td>2.5</td>\n      <td>1053070768</td>\n    </tr>\n    <tr>\n      <th>60779</th>\n      <td>390</td>\n      <td>3801</td>\n      <td>4.0</td>\n      <td>1030824826</td>\n    </tr>\n    <tr>\n      <th>6435</th>\n      <td>43</td>\n      <td>58</td>\n      <td>3.0</td>\n      <td>869252497</td>\n    </tr>\n  </tbody>\n</table>\n</div>"
     },
     "metadata": {},
     "execution_count": 82
    }
   ],
   "source": [
    "train.head()\n"
   ]
  },
  {
   "cell_type": "code",
   "execution_count": 97,
   "metadata": {},
   "outputs": [
    {
     "output_type": "stream",
     "name": "stdout",
     "text": [
      "610 9724\n"
     ]
    }
   ],
   "source": [
    "n_users, n_movies = len(dataset.userId.unique()), len(dataset.movieId.unique())\n",
    "print(n_users,n_movies)"
   ]
  },
  {
   "cell_type": "code",
   "execution_count": 59,
   "metadata": {},
   "outputs": [
    {
     "output_type": "stream",
     "name": "stdout",
     "text": [
      "610 193609\n"
     ]
    }
   ],
   "source": [
    "userembedding = dataset['userId'].max()\n",
    "movieembedding = dataset['movieId'].max()\n",
    "print(userembedding,movieembedding)"
   ]
  },
  {
   "cell_type": "code",
   "execution_count": 61,
   "metadata": {},
   "outputs": [
    {
     "output_type": "stream",
     "name": "stdout",
     "text": [
      "610 9724\n"
     ]
    }
   ],
   "source": [
    "n_movies1 = dataset['movieId'].nunique()\n",
    "n_users1 = dataset['userId'].nunique()\n",
    "print(n_users1,n_movies1)"
   ]
  },
  {
   "cell_type": "code",
   "execution_count": 101,
   "metadata": {},
   "outputs": [
    {
     "output_type": "stream",
     "name": "stdout",
     "text": [
      "Model: \"model_6\"\n__________________________________________________________________________________________________\nLayer (type)                    Output Shape         Param #     Connected to                     \n==================================================================================================\nUsers (InputLayer)              [(None, 1)]          0                                            \n__________________________________________________________________________________________________\nMovies (InputLayer)             [(None, 1)]          0                                            \n__________________________________________________________________________________________________\nEmbedded_Users (Embedding)      (None, 1, 8)         4888        Users[0][0]                      \n__________________________________________________________________________________________________\nEmbedded_Movies (Embedding)     (None, 1, 8)         77800       Movies[0][0]                     \n__________________________________________________________________________________________________\nFlaten_User (Flatten)           (None, 8)            0           Embedded_Users[0][0]             \n__________________________________________________________________________________________________\nFlaten_Movie (Flatten)          (None, 8)            0           Embedded_Movies[0][0]            \n__________________________________________________________________________________________________\nDot_product (Dot)               (None, 1)            0           Flaten_User[0][0]                \n                                                                 Flaten_Movie[0][0]               \n==================================================================================================\nTotal params: 82,688\nTrainable params: 82,688\nNon-trainable params: 0\n__________________________________________________________________________________________________\n"
     ]
    }
   ],
   "source": [
    "user_input = Input(shape=[1], name='Users')\n",
    "user_embedding = Embedding(n_users+1, 8, name=\"Embedded_Users\")(user_input)\n",
    "user_final = Flatten(name='Flaten_User')(user_embedding)\n",
    "\n",
    "movie_input = Input(shape=[1], name='Movies')\n",
    "movie_embedding = Embedding(n_movies+1, 8, name=\"Embedded_Movies\")(movie_input)\n",
    "movie_final = Flatten(name='Flaten_Movie')(movie_embedding)\n",
    "\n",
    "mult = Dot(name='Dot_product', axes=1)([user_final,movie_final])\n",
    "model = Model([user_input,movie_input],mult)\n",
    "model.compile(optimizer='adam', loss='mean_squared_error')\n",
    "\n",
    "model.summary()"
   ]
  },
  {
   "cell_type": "code",
   "execution_count": 103,
   "metadata": {},
   "outputs": [],
   "source": [
    "from keras.models import load_model\n",
    "if os.path.exists(r'C:\\Users\\Kristaps\\Desktop\\recsys\\movie_rec.m5'):\n",
    "    model = load_model(r'C:\\Users\\Kristaps\\Desktop\\recsys\\movie_rec.m5')\n",
    "else:\n",
    "    history = model.fit([train.userId, train.movieId], train.rating, epochs=100,verbose=1)\n",
    "    model.save(r'C:\\Users\\Kristaps\\Desktop\\recsys\\movie_rec.m5')\n",
    "    plt.plot(history.history['loss'])\n",
    "    plt.xlabel = ('Epochs')\n",
    "    plt.ylabel = ('Training_Error')"
   ]
  },
  {
   "cell_type": "code",
   "execution_count": null,
   "metadata": {},
   "outputs": [],
   "source": [
    "plt.plot(history.history['loss'])"
   ]
  },
  {
   "cell_type": "code",
   "execution_count": null,
   "metadata": {},
   "outputs": [],
   "source": [
    "model.evaluate([test.userId,test.movieId], test.rating)"
   ]
  },
  {
   "cell_type": "code",
   "execution_count": null,
   "metadata": {},
   "outputs": [],
   "source": [
    "predictions = model.predict([test.userId.head(20),test.movieId.head(20)])\n",
    "[print(predictions[i], test.rating.iloc[i]) for i in range(0,20)]"
   ]
  },
  {
   "cell_type": "code",
   "execution_count": null,
   "metadata": {},
   "outputs": [],
   "source": [
    "moviedata = np.array(list(set(dataset.movieId)))\n",
    "moviedata[:8]"
   ]
  },
  {
   "cell_type": "code",
   "execution_count": null,
   "metadata": {},
   "outputs": [],
   "source": [
    "user = np.array([1 for i in range(len(moviedata))])\n",
    "user[:8]"
   ]
  },
  {
   "cell_type": "code",
   "execution_count": null,
   "metadata": {},
   "outputs": [],
   "source": [
    "predictions = model.predict([user,moviedata])\n",
    "predictions = np.array([a[0] for a in predictions])\n",
    "\n",
    "recommendedmovies = (-predictions).argsort()[:8]\n",
    "recommendedmovies"
   ]
  },
  {
   "cell_type": "code",
   "execution_count": 221,
   "metadata": {},
   "outputs": [
    {
     "output_type": "execute_result",
     "data": {
      "text/plain": [
       "userId       6.100000e+02\n",
       "movieId      1.936090e+05\n",
       "rating       5.000000e+00\n",
       "timestamp    1.537799e+09\n",
       "dtype: float64"
      ]
     },
     "metadata": {},
     "execution_count": 221
    }
   ],
   "source": [
    "pd.DataFrame(train).max()"
   ]
  },
  {
   "cell_type": "code",
   "execution_count": null,
   "metadata": {},
   "outputs": [],
   "source": []
  }
 ]
}